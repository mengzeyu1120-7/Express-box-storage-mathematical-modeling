{
 "cells": [
  {
   "cell_type": "code",
   "execution_count": 1,
   "metadata": {},
   "outputs": [],
   "source": [
    "import numpy as np\n",
    "from scipy.linalg import solve\n",
    "from sympy import *\n",
    "import matplotlib.pyplot as plt\n",
    "import math\n",
    "def whetherfloat(x):\n",
    "    try:\n",
    "        float(x)\n",
    "        return True\n",
    "    except TypeError:\n",
    "        return False"
   ]
  },
  {
   "cell_type": "code",
   "execution_count": 2,
   "metadata": {},
   "outputs": [
    {
     "name": "stdout",
     "output_type": "stream",
     "text": [
      "[12.20642416 15.06722549 17.07401052 18.67160929 20.02072058 21.2\n",
      " 22.25453199 23.21284833 24.09428485 24.91262203 25.67806821 26.398421\n",
      " 27.07978692 27.72704805 28.34417617 28.93445097 29.50061583 30.04499141\n",
      " 30.56956038 31.07603164] [1063.85693771 1697.4181432  2229.76026456 2705.38231982 3142.80597816\n",
      " 3552.         3939.10897991 4308.25858681 4662.38822593 5003.68569894\n",
      " 5333.83504455 5654.16757669 5965.75885163 6269.49359016 6566.11067475\n",
      " 6856.23525514 7140.40222884 7419.07378361 7692.65274892 7961.49292504]\n"
     ]
    }
   ],
   "source": [
    "t=0.6\n",
    "n=1\n",
    "v=range(2000,42000,2000)\n",
    "ks=np.zeros(20)\n",
    "hs=np.zeros(20)\n",
    "Ss=np.zeros(20)\n",
    "for i in range(0,20):\n",
    "    V=v[i]\n",
    "    l=symbols('l')\n",
    "    m=solve(6*l+3*4*t+(4*V*(l-2*t)**2-4*V*l*(2*l-4*t))/(l-2*t)**4)\n",
    "    if whetherfloat(m[0]) and m[0]>0:\n",
    "        ks[i]=m[0]\n",
    "    elif whetherfloat(m[1]) and m[1]>0:\n",
    "        ks[i]=m[1]\n",
    "    elif whetherfloat(m[2]) and m[2]>0:\n",
    "        ks[i]=m[2]\n",
    "    else:\n",
    "        ks[i]=m[3]\n",
    "    hs[i]=V/((ks[i]-2*t)**2)+3*t\n",
    "    Ss[i]=3*(ks[i]-2*t)**2+4*(hs[i]-4*t)*(ks[i]-2*t)\n",
    "print(ks,Ss)"
   ]
  },
  {
   "cell_type": "code",
   "execution_count": 3,
   "metadata": {},
   "outputs": [
    {
     "name": "stdout",
     "output_type": "stream",
     "text": [
      "[ 6.56466819  8.11501101  9.20254014 10.06832056 10.79943914 11.4385214\n",
      " 12.00999978 12.52933639 13.00700982 13.45048807 13.86530331 14.25568127\n",
      " 14.62493122 14.9756989  15.31013672 15.63002202 15.93684152 16.23185284\n",
      " 16.51613044 16.79060042] [1218.47870011 1861.96112416 2394.46130344 2866.19973313 3297.57578125\n",
      " 3699.40739528 4078.29259798 4438.62567189 4783.51696173 5115.26890748\n",
      " 5435.64556895 5746.0359052  6047.55806525 6341.12890131 6627.51195657\n",
      " 6907.35158291 7181.19781256 7449.52488538 7712.745312   7971.22072647]\n"
     ]
    }
   ],
   "source": [
    "t=0.6\n",
    "n=1\n",
    "kc=np.zeros(20)\n",
    "hc=np.zeros(20)\n",
    "Sc=np.zeros(20)\n",
    "pi=math.pi\n",
    "for i in range(0,20):\n",
    "    V=v[i]\n",
    "    r=symbols('r')\n",
    "    m=solve(6*pi*r+6*pi*t+(2*V*(r-t)**2-2*V*r*(2*r-2*t))/((r-t)**4))\n",
    "    if whetherfloat(m[0]) and m[0]>0:\n",
    "        kc[i]=m[0]\n",
    "    elif whetherfloat(m[1]) and m[1]>0:\n",
    "        kc[i]=m[1]\n",
    "    elif whetherfloat(m[2]) and m[2]>0:\n",
    "        kc[i]=m[2]\n",
    "    else:\n",
    "        kc[i]=m[3]\n",
    "    hc[i]=V/(pi*((kc[i]-t)**2))+3*t\n",
    "    Sc[i]=3*pi*kc[i]**2+2*pi*kc[i]*hc[i]\n",
    "print(kc,Sc)"
   ]
  },
  {
   "cell_type": "code",
   "execution_count": 4,
   "metadata": {},
   "outputs": [
    {
     "name": "stdout",
     "output_type": "stream",
     "text": [
      "[11.18744744 14.04088929 16.04410534 17.63945294 18.98696278 20.16502045\n",
      " 21.21857656 22.17608764 23.05684338 23.87459407 24.63952736 25.35942609\n",
      " 26.04038592 26.68728071 27.30407589 27.89404619 28.45993096 29.00404766\n",
      " 29.5283763  30.03462356] [1177.34009065 1785.25773372 2287.96833283 2733.10609104 3140.01772715\n",
      " 3518.95976401 3876.18582738 4215.85962047 4540.92750693 4853.57002379\n",
      " 5155.45747554 5447.90474621 5731.97016476 6008.52139117 6278.28089344\n",
      " 6541.85827525 6799.77383966 7052.47613963 7300.35529818 7543.75328641]\n"
     ]
    }
   ],
   "source": [
    "t=0.6\n",
    "n=1\n",
    "kt=np.zeros(20)\n",
    "ht=np.zeros(20)\n",
    "St=np.zeros(20)\n",
    "for i in range(0,20):\n",
    "    V=v[i]\n",
    "    l=symbols('l')\n",
    "    m=solve(3*(3**(0.5))*l+9*t+(3*V*((3**(0.5))/2*(l**2)-(2+(3**(0.5)))*l*t+4*(t**2))-3*l*V*((3**(0.5))*l-(2+(3**(0.5))*t)))/(((3**(0.5))/2*(l**2)-(2+(3**(0.5))*l*t)+4*(t**2))**2))\n",
    "    if whetherfloat(m[0]) and m[0]>2:\n",
    "        kt[i]=m[0]\n",
    "    elif whetherfloat(m[1]) and m[1]>2:\n",
    "        kt[i]=m[1]\n",
    "    elif whetherfloat(m[2]) and m[2]>2:\n",
    "        kt[i]=m[2]\n",
    "    elif whetherfloat(m[3]) and m[3]>2:\n",
    "        kt[i]=m[3]\n",
    "    else:\n",
    "        kt[i]=m[4]\n",
    "    ht[i]=V/((kt[i]-2*t)*(3**(0.5)/2*kt[i]-2*t))+3*t\n",
    "    St[i]=3*3**(0.5)/2*kt[i]**2+ht[i]*3*kt[i]\n",
    "print(kt,St)"
   ]
  },
  {
   "cell_type": "code",
   "execution_count": 7,
   "metadata": {
    "scrolled": true
   },
   "outputs": [
    {
     "data": {
      "text/plain": [
       "Text(0.5, 1.0, 'Relationship diagram')"
      ]
     },
     "execution_count": 7,
     "metadata": {},
     "output_type": "execute_result"
    },
    {
     "data": {
      "image/png": "[encoded data removed]",
      "text/plain": [
       "<Figure size 432x288 with 1 Axes>"
      ]
     },
     "metadata": {
      "needs_background": "light"
     },
     "output_type": "display_data"
    }
   ],
   "source": [
    "plt.plot(v,Ss,label='square')\n",
    "plt.plot(v,Sc,label='circle')\n",
    "plt.plot(v,St,label='triangle')\n",
    "plt.xlabel('Volume')\n",
    "plt.ylabel('Material')\n",
    "plt.title('Relationship diagram',fontsize=15,loc='center',color='purple')"
   ]
  },
  {
   "cell_type": "code",
   "execution_count": null,
   "metadata": {},
   "outputs": [],
   "source": []
  }
 ],
 "metadata": {
  "kernelspec": {
   "display_name": "Python 3",
   "language": "python",
   "name": "python3"
  },
  "language_info": {
   "codemirror_mode": {
    "name": "ipython",
    "version": 3
   },
   "file_extension": ".py",
   "mimetype": "text/x-python",
   "name": "python",
   "nbconvert_exporter": "python",
   "pygments_lexer": "ipython3",
   "version": "3.8.5"
  }
 },
 "nbformat": 4,
 "nbformat_minor": 4
}
