{
 "cells": [
  {
   "cell_type": "code",
   "execution_count": 1,
   "metadata": {},
   "outputs": [
    {
     "name": "stdout",
     "output_type": "stream",
     "text": [
      "请输入第一个物品的长度：3\n",
      "请输入第一个物品的宽度：4\n",
      "请输入第一个物品的高度：5\n",
      "请输入第二个物品的长度：3\n",
      "请输入第二个物品的宽度：4\n",
      "请输入第二个物品的高度：5\n"
     ]
    }
   ],
   "source": [
    "import cvxpy as cp\n",
    "x_1=float(input('请输入第一个物品的长度：'))\n",
    "y_1=float(input('请输入第一个物品的宽度：'))\n",
    "z_1=float(input('请输入第一个物品的高度：'))\n",
    "l_2=float(input('请输入第二个物品的长度：'))\n",
    "w_2=float(input('请输入第二个物品的宽度：'))\n",
    "h_2=float(input('请输入第二个物品的高度：'))"
   ]
  },
  {
   "cell_type": "code",
   "execution_count": 2,
   "metadata": {},
   "outputs": [
    {
     "name": "stdout",
     "output_type": "stream",
     "text": [
      "6.0 4.0 5.0 148.0\n"
     ]
    }
   ],
   "source": [
    "m=100000000\n",
    "l=0\n",
    "w=0\n",
    "h=0\n",
    "for i in range(0,3):\n",
    "    for j in range(0,3):\n",
    "        if i==0:\n",
    "            dir=[1,0,0]\n",
    "        elif i==1:\n",
    "            dir=[0,1,0]\n",
    "        else:\n",
    "            dir=[0,0,1]\n",
    "        if j==0:\n",
    "            next=[1,0,0]\n",
    "        elif j==1:\n",
    "            next=[0,1,0]\n",
    "        else:\n",
    "            next=[0,0,1]\n",
    "        x_2=l_2*dir[0]+w_2*dir[1]+h_2*dir[2]\n",
    "        y_2=l_2*dir[2]+w_2*dir[0]+h_2*dir[1]\n",
    "        z_2=l_2*dir[1]+w_2*dir[2]+h_2*dir[0]\n",
    "        L=max(x_1+x_2*next[0],x_2)\n",
    "        W=max(y_1+y_2*next[1],y_2)\n",
    "        H=max(z_1+z_2*next[2],z_2)\n",
    "        S=2*(L*W+W*H+L*H)\n",
    "        if S<m:\n",
    "            m=S\n",
    "            l=L\n",
    "            w=W\n",
    "            h=H\n",
    "print(l,w,h,m)"
   ]
  },
  {
   "cell_type": "code",
   "execution_count": 3,
   "metadata": {},
   "outputs": [
    {
     "name": "stdout",
     "output_type": "stream",
     "text": [
      "请输入第三个物品的长度：1\n",
      "请输入第三个物品的宽度：1\n",
      "请输入第三个物品的高度：1\n"
     ]
    }
   ],
   "source": [
    "l_3=float(input('请输入第三个物品的长度：'))\n",
    "w_3=float(input('请输入第三个物品的宽度：'))\n",
    "h_3=float(input('请输入第三个物品的高度：'))"
   ]
  },
  {
   "cell_type": "code",
   "execution_count": 4,
   "metadata": {},
   "outputs": [
    {
     "name": "stdout",
     "output_type": "stream",
     "text": [
      "7.0 4.0 5.0 166.0\n"
     ]
    }
   ],
   "source": [
    "m=100000000\n",
    "l=0\n",
    "w=0\n",
    "h=0\n",
    "for i_1 in range(0,3):\n",
    "    for j_1 in range(0,3):\n",
    "        for i_2 in range(0,3):\n",
    "            for j_2 in range(0,3):\n",
    "                if i_1==0:\n",
    "                    dir_1=[1,0,0]\n",
    "                elif i_1==1:\n",
    "                    dir_1=[0,1,0]\n",
    "                else:\n",
    "                    dir_1=[0,0,1]\n",
    "                if j_1==0:\n",
    "                    next_1=[1,0,0]\n",
    "                elif j_1==1:\n",
    "                    next_1=[0,1,0]\n",
    "                else:\n",
    "                    next_1=[0,0,1]\n",
    "                if i_2==0:\n",
    "                    dir_2=[1,0,0]\n",
    "                elif i_2==1:\n",
    "                    dir_2=[0,1,0]\n",
    "                else:\n",
    "                    dir_2=[0,0,1]\n",
    "                if j_2==0:\n",
    "                    next_2=[1,0,0]\n",
    "                elif j_2==1:\n",
    "                    next_2=[0,1,0]\n",
    "                else:\n",
    "                    next_2=[0,0,1]\n",
    "                x_2=l_2*dir_1[0]+w_2*dir_1[1]+h_2*dir_1[2]\n",
    "                y_2=l_2*dir_1[2]+w_2*dir_1[0]+h_2*dir_1[1]\n",
    "                z_2=l_2*dir_1[1]+w_2*dir_1[2]+h_2*dir_1[0]\n",
    "                x_3=l_3*dir_2[0]+w_3*dir_2[1]+h_3*dir_2[2]\n",
    "                y_3=l_3*dir_2[2]+w_3*dir_2[0]+h_3*dir_2[1]\n",
    "                z_3=l_3*dir_2[1]+w_3*dir_2[2]+h_3*dir_2[0]\n",
    "                L_1=max(x_1+x_2*next_1[0],x_2)\n",
    "                W_1=max(y_1+y_2*next_1[1],y_2)\n",
    "                H_1=max(z_1+z_2*next_1[2],z_2)\n",
    "                L_2=max(x_1+x_3*next_2[0],x_3)\n",
    "                W_2=max(y_1+y_3*next_2[1],y_3)\n",
    "                H_2=max(z_1+z_3*next_2[2],z_3)\n",
    "                L=max(L_1+L_2-x_1,L_1,L_2)\n",
    "                W=max(W_1+W_2-y_1,W_1,W_2)\n",
    "                H=max(H_1+H_2-z_1,H_1,H_2)\n",
    "                S=2*(L*W+W*H+L*H)\n",
    "                if S<m:\n",
    "                    m=S\n",
    "                    l=L\n",
    "                    w=W\n",
    "                    h=H\n",
    "print(l,w,h,m)"
   ]
  },
  {
   "cell_type": "code",
   "execution_count": 5,
   "metadata": {},
   "outputs": [
    {
     "ename": "NotImplementedError",
     "evalue": "Strict inequalities are not allowed.",
     "output_type": "error",
     "traceback": [
      "\u001b[1;31m---------------------------------------------------------------------------\u001b[0m",
      "\u001b[1;31mNotImplementedError\u001b[0m                       Traceback (most recent call last)",
      "\u001b[1;32m<ipython-input-5-79b827ec1592>\u001b[0m in \u001b[0;36m<module>\u001b[1;34m\u001b[0m\n\u001b[0;32m     44\u001b[0m                 \u001b[0mH\u001b[0m\u001b[1;33m=\u001b[0m\u001b[0mcp\u001b[0m\u001b[1;33m.\u001b[0m\u001b[0mVariable\u001b[0m\u001b[1;33m(\u001b[0m\u001b[1;33m)\u001b[0m\u001b[1;33m\u001b[0m\u001b[1;33m\u001b[0m\u001b[0m\n\u001b[0;32m     45\u001b[0m                 \u001b[0mobjective\u001b[0m\u001b[1;33m=\u001b[0m\u001b[0mcp\u001b[0m\u001b[1;33m.\u001b[0m\u001b[0mMinimize\u001b[0m\u001b[1;33m(\u001b[0m\u001b[1;36m2\u001b[0m\u001b[1;33m*\u001b[0m\u001b[1;33m(\u001b[0m\u001b[0mL\u001b[0m\u001b[1;33m*\u001b[0m\u001b[0mW\u001b[0m\u001b[1;33m+\u001b[0m\u001b[0mW\u001b[0m\u001b[1;33m*\u001b[0m\u001b[0mH\u001b[0m\u001b[1;33m+\u001b[0m\u001b[0mL\u001b[0m\u001b[1;33m*\u001b[0m\u001b[0mH\u001b[0m\u001b[1;33m)\u001b[0m\u001b[1;33m)\u001b[0m\u001b[1;33m\u001b[0m\u001b[1;33m\u001b[0m\u001b[0m\n\u001b[1;32m---> 46\u001b[1;33m                 cons=[X_2-max(L,L_1)+L*next_2[0]<=L-x_3,\n\u001b[0m\u001b[0;32m     47\u001b[0m                       \u001b[0mY_2\u001b[0m\u001b[1;33m-\u001b[0m\u001b[0mmax\u001b[0m\u001b[1;33m(\u001b[0m\u001b[0mW\u001b[0m\u001b[1;33m,\u001b[0m\u001b[0mW_1\u001b[0m\u001b[1;33m)\u001b[0m\u001b[1;33m+\u001b[0m\u001b[0mW\u001b[0m\u001b[1;33m*\u001b[0m\u001b[0mnext_2\u001b[0m\u001b[1;33m[\u001b[0m\u001b[1;36m0\u001b[0m\u001b[1;33m]\u001b[0m\u001b[1;33m<=\u001b[0m\u001b[0mW\u001b[0m\u001b[1;33m-\u001b[0m\u001b[0my_3\u001b[0m\u001b[1;33m,\u001b[0m\u001b[1;33m\u001b[0m\u001b[1;33m\u001b[0m\u001b[0m\n\u001b[0;32m     48\u001b[0m                       \u001b[0mZ_2\u001b[0m\u001b[1;33m-\u001b[0m\u001b[0mmax\u001b[0m\u001b[1;33m(\u001b[0m\u001b[0mH\u001b[0m\u001b[1;33m,\u001b[0m\u001b[0mH_1\u001b[0m\u001b[1;33m)\u001b[0m\u001b[1;33m+\u001b[0m\u001b[0mH\u001b[0m\u001b[1;33m*\u001b[0m\u001b[0mnext_2\u001b[0m\u001b[1;33m[\u001b[0m\u001b[1;36m0\u001b[0m\u001b[1;33m]\u001b[0m\u001b[1;33m<=\u001b[0m\u001b[0mH\u001b[0m\u001b[1;33m-\u001b[0m\u001b[0mz_3\u001b[0m\u001b[1;33m,\u001b[0m\u001b[1;33m\u001b[0m\u001b[1;33m\u001b[0m\u001b[0m\n",
      "\u001b[1;32mD:\\anaconda\\lib\\site-packages\\cvxpy\\expressions\\expression.py\u001b[0m in \u001b[0;36m__lt__\u001b[1;34m(self, other)\u001b[0m\n\u001b[0;32m    724\u001b[0m         \"\"\"Unsupported.\n\u001b[0;32m    725\u001b[0m         \"\"\"\n\u001b[1;32m--> 726\u001b[1;33m         \u001b[1;32mraise\u001b[0m \u001b[0mNotImplementedError\u001b[0m\u001b[1;33m(\u001b[0m\u001b[1;34m\"Strict inequalities are not allowed.\"\u001b[0m\u001b[1;33m)\u001b[0m\u001b[1;33m\u001b[0m\u001b[1;33m\u001b[0m\u001b[0m\n\u001b[0m\u001b[0;32m    727\u001b[0m \u001b[1;33m\u001b[0m\u001b[0m\n\u001b[0;32m    728\u001b[0m     \u001b[1;33m@\u001b[0m\u001b[0m_cast_other\u001b[0m\u001b[1;33m\u001b[0m\u001b[1;33m\u001b[0m\u001b[0m\n",
      "\u001b[1;31mNotImplementedError\u001b[0m: Strict inequalities are not allowed."
     ]
    }
   ],
   "source": [
    "S=100000\n",
    "for i_1 in range(0,3):\n",
    "    for j_1 in range(0,3):\n",
    "        for i_2 in range(0,3):\n",
    "            for j_2 in range(0,3):\n",
    "                if i_1==0:\n",
    "                    dir_1=[1,0,0]\n",
    "                elif i_1==1:\n",
    "                    dir_1=[0,1,0]\n",
    "                else:\n",
    "                    dir_1=[0,0,1]\n",
    "                if j_1==0:\n",
    "                    next_1=[1,0,0]\n",
    "                elif j_1==1:\n",
    "                    next_1=[0,1,0]\n",
    "                else:\n",
    "                    next_1=[0,0,1]\n",
    "                if i_2==0:\n",
    "                    dir_2=[1,0,0]\n",
    "                elif i_2==1:\n",
    "                    dir_2=[0,1,0]\n",
    "                else:\n",
    "                    dir_2=[0,0,1]\n",
    "                if j_2==0:\n",
    "                    next_2=[1,0,0]\n",
    "                elif j_2==1:\n",
    "                    next_2=[0,1,0]\n",
    "                else:\n",
    "                    next_2=[0,0,1]\n",
    "                x_2=l_2*dir_1[0]+w_2*dir_1[1]+h_2*dir_1[2]\n",
    "                y_2=l_2*dir_1[2]+w_2*dir_1[0]+h_2*dir_1[1]\n",
    "                z_2=l_2*dir_1[1]+w_2*dir_1[2]+h_2*dir_1[0]\n",
    "                x_3=l_3*dir_2[0]+w_3*dir_2[1]+h_3*dir_2[2]\n",
    "                y_3=l_3*dir_2[2]+w_3*dir_2[0]+h_3*dir_2[1]\n",
    "                z_3=l_3*dir_2[1]+w_3*dir_2[2]+h_3*dir_2[0] \n",
    "                L_1=max(x_1+x_2*next_1[0],x_2)\n",
    "                W_1=max(y_1+y_2*next_1[1],y_2)\n",
    "                H_1=max(z_1+z_2*next_1[2],z_2)\n",
    "                X_2=next_1[0]*x_1+x_2\n",
    "                Y_2=next_1[1]*y_1+y_2\n",
    "                Z_2=next_1[2]*z_2+z_2\n",
    "                L=cp.Variable()\n",
    "                W=cp.Variable()\n",
    "                H=cp.Variable()\n",
    "                objective=cp.Minimize(2*(L*W+W*H+L*H))\n",
    "                cons=[X_2-max(L,L_1)+L*next_2[0]<=L-x_3,\n",
    "                      Y_2-max(W,W_1)+W*next_2[0]<=W-y_3,\n",
    "                      Z_2-max(H,H_1)+H*next_2[0]<=H-z_3,\n",
    "                      X_2<=L-x_3,\n",
    "                      Y_2<=W-y_3,\n",
    "                      Z_2<=H-z_3]\n",
    "                prob=cp.Problem(objective,cons)\n",
    "                prob.solve\n",
    "                L_0=float(L.value)\n",
    "                W_0=float(W.value)\n",
    "                H_0=float(H.value)\n",
    "                S_0=float(prob.value)\n",
    "                if S_0<S:\n",
    "                    S=S_0\n",
    "                    l=L_0\n",
    "                    w=W_0\n",
    "                    h=H_0\n",
    "print(l,w,h,S)"
   ]
  },
  {
   "cell_type": "code",
   "execution_count": null,
   "metadata": {},
   "outputs": [],
   "source": []
  }
 ],
 "metadata": {
  "kernelspec": {
   "display_name": "Python 3",
   "language": "python",
   "name": "python3"
  },
  "language_info": {
   "codemirror_mode": {
    "name": "ipython",
    "version": 3
   },
   "file_extension": ".py",
   "mimetype": "text/x-python",
   "name": "python",
   "nbconvert_exporter": "python",
   "pygments_lexer": "ipython3",
   "version": "3.8.5"
  }
 },
 "nbformat": 4,
 "nbformat_minor": 4
}
