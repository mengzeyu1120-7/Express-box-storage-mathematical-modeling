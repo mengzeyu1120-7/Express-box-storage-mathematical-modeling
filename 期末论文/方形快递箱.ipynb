{
 "cells": [
  {
   "cell_type": "code",
   "execution_count": 1,
   "metadata": {},
   "outputs": [],
   "source": [
    "import numpy as py\n",
    "from scipy.linalg import solve\n",
    "from sympy import *\n",
    "def whetherfloat(x):\n",
    "    try:\n",
    "        float(x)\n",
    "        return True\n",
    "    except TypeError:\n",
    "        return False"
   ]
  },
  {
   "cell_type": "code",
   "execution_count": 2,
   "metadata": {},
   "outputs": [
    {
     "name": "stdout",
     "output_type": "stream",
     "text": [
      "纸箱需要的容积(cm2)：20000\n",
      "纸箱需要的厚度(mm)：6\n",
      "纸箱有几个面需要双层:(可选1,2,4)2\n"
     ]
    }
   ],
   "source": [
    "V=float(input('纸箱需要的容积(cm2)：'))\n",
    "t=float(input('纸箱需要的厚度(mm)：'))\n",
    "n=int(input('纸箱有几个面需要双层:(可选1,2,4)'))"
   ]
  },
  {
   "cell_type": "code",
   "execution_count": 3,
   "metadata": {},
   "outputs": [],
   "source": [
    "while not(V>0 and t>0 and t<20 and n==1 or n==2 or n==4):\n",
    "    print('不符合输入要求,请重新输入')\n",
    "    V=float(input('纸箱需要的容积(cm3)：'))\n",
    "    t=float(input('纸箱需要的厚度(mm)：'))\n",
    "    n=int(input('纸箱有几个面需要双层:(可选1,2,4)'))"
   ]
  },
  {
   "cell_type": "code",
   "execution_count": 4,
   "metadata": {},
   "outputs": [
    {
     "name": "stdout",
     "output_type": "stream",
     "text": [
      "[-1.20000000000000, 22.7443469003188, -9.57217345015942 - 18.6579517236206*I, -9.57217345015942 + 18.6579517236206*I]\n"
     ]
    }
   ],
   "source": [
    "if n==1:\n",
    "    l=symbols('l')\n",
    "    t=t*0.1\n",
    "    m=solve(6*l+3*4*t+(4*V*(l-2*t)**2-4*V*l*(2*l-4*t))/(l-2*t)**4)\n",
    "    print(m)\n",
    "elif n==2:\n",
    "    l=symbols('l')\n",
    "    t=t*0.1\n",
    "    m=solve(8*l+4*4*t+(4*V*(l-2*t)**2-4*V*l*(2*l-4*t))/(l-2*t)**4)\n",
    "    print(m)\n",
    "else:\n",
    "    l=symbols('l')\n",
    "    t=t*0.1\n",
    "    m=solve(8*l+6*4*t+(6*V*(l-2*t)**2-6*V*l*(2*l-4*t))/(l-2*t)**4)\n",
    "    print(m)"
   ]
  },
  {
   "cell_type": "code",
   "execution_count": 5,
   "metadata": {},
   "outputs": [
    {
     "name": "stdout",
     "output_type": "stream",
     "text": [
      "22.7443469003188\n"
     ]
    }
   ],
   "source": [
    "if whetherfloat(m[0]) and m[0]>0:\n",
    "    k=m[0]\n",
    "elif whetherfloat(m[1]) and m[1]>0:\n",
    "    k=m[1]\n",
    "elif whetherfloat(m[2]) and m[2]>0:\n",
    "    k=m[2]\n",
    "else:\n",
    "    k=m[3]\n",
    "print(k)"
   ]
  },
  {
   "cell_type": "code",
   "execution_count": 6,
   "metadata": {},
   "outputs": [
    {
     "name": "stdout",
     "output_type": "stream",
     "text": [
      "45.4886938006377\n"
     ]
    }
   ],
   "source": [
    "if n==1:  \n",
    "    h=V/((k-2*t)**2)+3*t\n",
    "else:\n",
    "    h=V/((k-2*t)**2)+4*t\n",
    "print(h)"
   ]
  },
  {
   "cell_type": "code",
   "execution_count": 7,
   "metadata": {},
   "outputs": [
    {
     "name": "stdout",
     "output_type": "stream",
     "text": [
      "5569.90660033533\n"
     ]
    }
   ],
   "source": [
    "if n==1:\n",
    "    S=3*(k-2*t)**2+4*(h-3*t)*(k-2*t)\n",
    "elif n==2:\n",
    "    S=4*(k-2*t)**2+4*(h-4*t)*(k-2*t)\n",
    "else:\n",
    "    S=4*(k-2*t)**2+6*(h-4*t)*(k-2*t)\n",
    "print(S)"
   ]
  },
  {
   "cell_type": "code",
   "execution_count": null,
   "metadata": {},
   "outputs": [],
   "source": []
  }
 ],
 "metadata": {
  "kernelspec": {
   "display_name": "Python 3",
   "language": "python",
   "name": "python3"
  },
  "language_info": {
   "codemirror_mode": {
    "name": "ipython",
    "version": 3
   },
   "file_extension": ".py",
   "mimetype": "text/x-python",
   "name": "python",
   "nbconvert_exporter": "python",
   "pygments_lexer": "ipython3",
   "version": "3.8.5"
  }
 },
 "nbformat": 4,
 "nbformat_minor": 4
}
